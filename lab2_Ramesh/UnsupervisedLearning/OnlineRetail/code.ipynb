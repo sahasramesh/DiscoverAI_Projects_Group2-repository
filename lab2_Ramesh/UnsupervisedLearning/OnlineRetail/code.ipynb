{
    "metadata": {
        "kernelspec": {
            "name": "python3",
            "display_name": "Python 3 (ipykernel)",
            "language": "python"
        }
    },
    "nbformat": 4,
    "nbformat_minor": 2,
    "cells": [
        {
            "attachments": {},
            "cell_type": "markdown",
            "metadata": {},
            "source": [
                "# **Clustering Online Retail Data**"
            ]
        },
        {
            "attachments": {},
            "cell_type": "markdown",
            "metadata": {},
            "source": [
                "The code below is taken from Manish Kumar's submission on [kaggle.com](https://www.kaggle.com/hellbuoy/online-retail-k-means-hierarchical-clustering/notebook).\n",
                "\n",
                "You are encouraged to go to the link above and check the full code. In this lab, you will do the necessary steps to explore the data and prepare it for sklearn algorithms."
            ]
        },
        {
            "attachments": {},
            "cell_type": "markdown",
            "metadata": {},
            "source": [
                "**About the data set**"
            ]
        },
        {
            "attachments": {},
            "cell_type": "markdown",
            "metadata": {},
            "source": [
                "Online retail is a transnational data set which contains all the transactions occurring between 01/12/2010 and 09/12/2011 for a UK-based and registered non-store online retail. The company mainly sells unique all-occasion gifts. Many customers of the company are wholesalers.\n",
                "\n",
                "Using K-Means Clustering, you can segement the Customers based on RFM so that the company can target its customers efficiently."
            ]
        },
        {
            "attachments": {},
            "cell_type": "markdown",
            "metadata": {},
            "source": [
                "**Import libraries**"
            ]
        },
        {
            "cell_type": "code",
            "execution_count": 1,
            "metadata": {},
            "outputs": [],
            "source": [
                "# import required libraries for dataframe and visualization\n",
                "\n",
                "import numpy as np # linear algebra\n",
                "import pandas as pd # data processing, CSV file I/O (e.g. pd.read_csv)\n",
                "import matplotlib.pyplot as plt # for data visualization\n",
                "import seaborn as sns # for statistical data visualization\n",
                "import datetime as dt\n",
                "\n",
                "# import required sklearn libraries for KMeans Clustering\n",
                "import sklearn\n",
                "from sklearn.preprocessing import MinMaxScaler\n",
                "from sklearn.cluster import KMeans"
            ]
        },
        {
            "attachments": {},
            "cell_type": "markdown",
            "metadata": {},
            "source": [
                "# Acquire data"
            ]
        },
        {
            "cell_type": "code",
            "execution_count": 2,
            "metadata": {},
            "outputs": [],
            "source": [
                "# Read in the data using panda's read_csv method\n",
                "retail = pd.read_csv('UnsupervisedLearning/OnlineRetail/OnlineRetail.csv', sep=\",\", encoding=\"ISO-8859-1\", header=0)\n",
                "\n",
                "#TODO: Write code to inspect the first five rows of the data frame\n",
                ""
            ]
        },
        {
            "attachments": {},
            "cell_type": "markdown",
            "metadata": {},
            "source": [
                "# Inspect data"
            ]
        },
        {
            "cell_type": "code",
            "execution_count": 3,
            "metadata": {},
            "outputs": [],
            "source": [
                "#TODO: Write code to inspect the shape of the data frame\n",
                ""
            ]
        },
        {
            "cell_type": "code",
            "execution_count": 4,
            "metadata": {},
            "outputs": [],
            "source": [
                "#TODO: Write code to display information about the data frame\n",
                ""
            ]
        },
        {
            "cell_type": "code",
            "execution_count": 5,
            "metadata": {},
            "outputs": [],
            "source": [
                "#TODO: Write code to display statistics about the data frame\n",
                ""
            ]
        },
        {
            "attachments": {},
            "cell_type": "markdown",
            "metadata": {},
            "source": [
                "# Clean data"
            ]
        },
        {
            "attachments": {},
            "cell_type": "markdown",
            "metadata": {},
            "source": [
                "**Correcting**"
            ]
        },
        {
            "cell_type": "code",
            "execution_count": 6,
            "metadata": {},
            "outputs": [],
            "source": [
                "#TODO: Write code to drop rows having missing values\n",
                ""
            ]
        },
        {
            "cell_type": "code",
            "execution_count": 7,
            "metadata": {},
            "outputs": [],
            "source": [
                "# Changing the datatype of Customer Id to a string as per Business understanding\n",
                "\n",
                "retail['CustomerID'] = retail['CustomerID'].astype(str)"
            ]
        },
        {
            "attachments": {},
            "cell_type": "markdown",
            "metadata": {},
            "source": [
                "**Creating**"
            ]
        },
        {
            "attachments": {},
            "cell_type": "markdown",
            "metadata": {},
            "source": [
                "We are going to analysis the Customers based on 3 factors:\n",
                "* R (Recency): Number of days since last purchase\n",
                "* F (Frequency): Number of transactions\n",
                "* M (Monetary): Total amount of transactions (revenue contributed)"
            ]
        },
        {
            "cell_type": "code",
            "execution_count": 8,
            "metadata": {},
            "outputs": [],
            "source": [
                "# Create a new attribute : Monetary based on Quantity and UnitPrice\n",
                "\n",
                "retail['Amount'] = retail['Quantity']*retail['UnitPrice']\n",
                "rfm_m = retail.groupby('CustomerID')['Amount'].sum()\n",
                "rfm_m = rfm_m.reset_index()\n",
                "\n",
                "#TODO: Write code to inspect the first five rows of rfm_m\n",
                ""
            ]
        },
        {
            "cell_type": "code",
            "execution_count": 9,
            "metadata": {},
            "outputs": [],
            "source": [
                "# Create a new attribute : Frequency based on invoice count per customer ID\n",
                "\n",
                "rfm_f = retail.groupby('CustomerID')['InvoiceNo'].count()\n",
                "rfm_f = rfm_f.reset_index()\n",
                "rfm_f.columns = ['CustomerID', 'Frequency']\n",
                "\n",
                "#TODO: Write code to inspect the first five rows of rfm_f\n",
                ""
            ]
        },
        {
            "cell_type": "code",
            "execution_count": 10,
            "metadata": {},
            "outputs": [],
            "source": [
                "# Merge the two data frames\n",
                "\n",
                "rfm = pd.merge(rfm_m, rfm_f, on='CustomerID', how='inner')\n",
                "\n",
                "#TODO: Write code to inspect the first five rows of rfm"
            ]
        },
        {
            "cell_type": "code",
            "execution_count": 11,
            "metadata": {},
            "outputs": [],
            "source": [
                "# Create a new attribute : Recency\n",
                "# -----------------------------------\n",
                "\n",
                "# Convert to datetime to proper datatype\n",
                "retail['InvoiceDate'] = pd.to_datetime(retail['InvoiceDate'],format='%d-%m-%Y %H:%M')\n",
                "\n",
                "# Compute the maximum date to know the last transaction date\n",
                "max_date = max(retail['InvoiceDate'])\n",
                "\n",
                "# Compute the difference between max date and transaction date\n",
                "retail['Diff'] = max_date - retail['InvoiceDate']\n",
                "\n",
                "# Compute last transaction date to get the recency of customers\n",
                "rfm_p = retail.groupby('CustomerID')['Diff'].min()\n",
                "rfm_p = rfm_p.reset_index()\n",
                "\n",
                "# Extract number of days only\n",
                "rfm_p['Diff'] = rfm_p['Diff'].dt.days\n",
                "\n",
                "# Merge tha dataframes to get the final RFM dataframe\n",
                "rfm = pd.merge(rfm, rfm_p, on='CustomerID', how='inner')\n",
                "rfm.columns = ['CustomerID', 'Amount', 'Frequency', 'Recency']\n",
                "\n",
                "#TODO: Write code to inspect the first five rows of the data frame\n",
                ""
            ]
        },
        {
            "attachments": {},
            "cell_type": "markdown",
            "metadata": {},
            "source": [
                "**Remove outliers**"
            ]
        },
        {
            "cell_type": "code",
            "execution_count": 12,
            "metadata": {},
            "outputs": [],
            "source": [
                "# Outlier Analysis of Amount Frequency and Recency\n",
                "\n",
                "attributes = ['Amount','Frequency','Recency']\n",
                "plt.rcParams['figure.figsize'] = [10,8]\n",
                "sns.boxplot(data = rfm[attributes], orient=\"v\", palette=\"Set2\" ,whis=1.5,saturation=1, width=0.7)\n",
                "plt.title(\"Outliers Variable Distribution\", fontsize = 14, fontweight = 'bold')\n",
                "plt.ylabel(\"Range\", fontweight = 'bold')\n",
                "plt.xlabel(\"Attributes\", fontweight = 'bold')"
            ]
        },
        {
            "cell_type": "code",
            "execution_count": 13,
            "metadata": {},
            "outputs": [],
            "source": [
                "# Remove outliers for Amount\n",
                "Q1 = rfm.Amount.quantile(0.05)\n",
                "Q3 = rfm.Amount.quantile(0.95)\n",
                "IQR = Q3 - Q1\n",
                "rfm = rfm[(rfm.Amount \u003e= Q1 - 1.5*IQR) \u0026 (rfm.Amount \u003c= Q3 + 1.5*IQR)]\n",
                "\n",
                "#TODO: Write code to remove outliers for Recency\n",
                "\n",
                "# Remove outliers for Frequency\n",
                "Q1 = rfm.Frequency.quantile(0.05)\n",
                "Q3 = rfm.Frequency.quantile(0.95)\n",
                "IQR = Q3 - Q1\n",
                "rfm = rfm[(rfm.Frequency \u003e= Q1 - 1.5*IQR) \u0026 (rfm.Frequency \u003c= Q3 + 1.5*IQR)]"
            ]
        },
        {
            "attachments": {},
            "cell_type": "markdown",
            "metadata": {},
            "source": [
                "**Rescale attributes**"
            ]
        },
        {
            "cell_type": "code",
            "execution_count": 14,
            "metadata": {},
            "outputs": [],
            "source": [
                "# Rescaling the attributes using a MinMaxScaler\n",
                "\n",
                "rfm_df = rfm[['Amount', 'Frequency', 'Recency']]\n",
                "\n",
                "# Instantiate\n",
                "scaler = MinMaxScaler()\n",
                "\n",
                "# fit_transform\n",
                "rfm_df_scaled = scaler.fit_transform(rfm_df)\n",
                "\n",
                "rfm_df_scaled = pd.DataFrame(rfm_df_scaled)\n",
                "rfm_df_scaled.columns = ['Amount', 'Frequency', 'Recency']\n",
                "rfm_df_scaled.head()"
            ]
        },
        {
            "attachments": {},
            "cell_type": "markdown",
            "metadata": {},
            "source": [
                "# Earn Your Wings"
            ]
        },
        {
            "attachments": {},
            "cell_type": "markdown",
            "metadata": {},
            "source": [
                "Implement a K-Means Clustering algorithm on the cleaned data set. Use the elbow method to find the right value of k to use.\n",
                "Add comments in your code to explain each step that you take in your implementation."
            ]
        }
    ]
}
